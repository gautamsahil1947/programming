{
  "cells": [
    {
      "cell_type": "markdown",
      "metadata": {
        "colab_type": "text",
        "id": "view-in-github"
      },
      "source": [
        "<a href=\"https://colab.research.google.com/github/gautamsahil1947/gautamsahil1947/blob/main/python_codes.ipynb\" target=\"_parent\"><img src=\"https://colab.research.google.com/assets/colab-badge.svg\" alt=\"Open In Colab\"/></a>"
      ]
    },
    {
      "attachments": {},
      "cell_type": "markdown",
      "metadata": {},
      "source": [
        "QUESTION (OOP):\n",
        "create a class called emp in the class, create an init method with attributes as self, id, name, address. and initialise these attributes inside init method. create another class freelance which is a child class of amp class and create method init inside freelance class, with attributes such as self, id, name, address and email. inherit the first three attributes from parent class using super function and initialise the last attribute that is email inside the child class. for the freelance class, create an object and print the details such as id, name, address and email."
      ]
    },
    {
      "cell_type": "code",
      "execution_count": 6,
      "metadata": {},
      "outputs": [
        {
          "name": "stdout",
          "output_type": "stream",
          "text": [
            "bh5\n",
            "sahil\n",
            "12214095\n",
            "gautamsahil1947@gmail.com\n"
          ]
        }
      ],
      "source": [
        "# define a class called emp\n",
        "class emp():\n",
        "    # using init constructor initialise id, name, address that is the instance variables\n",
        "    def __init__(self, id, name, address):\n",
        "        self.id = id\n",
        "        self.name = name \n",
        "        self.address = address \n",
        "\n",
        "# create a child class with parent class emp\n",
        "class freelance(emp):\n",
        "    # declare init with four parameters\n",
        "    def __init__(self, id, name, address, email):\n",
        "        # borrow the initialisations of three from the parent class\n",
        "        super().__init__(id, name, address)\n",
        "        # and for the fourth one, initialise it here\n",
        "        self.email = email\n",
        "# create an object of the freelance class\n",
        "gautam = freelance(12214095, \"sahil\", \"bh5\", \"gautamsahil1947@gmail.com\")\n",
        "# fetch the instance variables that is object variables\n",
        "print(gautam.address)\n",
        "print(gautam.name)\n",
        "print(gautam.id)\n",
        "print(gautam.email)\n",
        "# dryrunning is the best tool to understand how a program works"
      ]
    }
  ],
  "metadata": {
    "colab": {
      "authorship_tag": "ABX9TyNo3xLNXLVfFdTQsAEDV4QH",
      "include_colab_link": true,
      "provenance": []
    },
    "kernelspec": {
      "display_name": "Python 3",
      "language": "python",
      "name": "python3"
    },
    "language_info": {
      "codemirror_mode": {
        "name": "ipython",
        "version": 3
      },
      "file_extension": ".py",
      "mimetype": "text/x-python",
      "name": "python",
      "nbconvert_exporter": "python",
      "pygments_lexer": "ipython3",
      "version": "3.10.6 (main, Nov 14 2022, 16:10:14) [GCC 11.3.0]"
    },
    "vscode": {
      "interpreter": {
        "hash": "916dbcbb3f70747c44a77c7bcd40155683ae19c65e1c03b4aa3499c5328201f1"
      }
    }
  },
  "nbformat": 4,
  "nbformat_minor": 0
}
