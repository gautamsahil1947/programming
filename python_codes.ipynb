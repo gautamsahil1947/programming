{
  "cells": [
    {
      "cell_type": "markdown",
      "metadata": {
        "colab_type": "text",
        "id": "view-in-github"
      },
      "source": [
        "<a href=\"https://colab.research.google.com/github/gautamsahil1947/gautamsahil1947/blob/main/python_codes.ipynb\" target=\"_parent\"><img src=\"https://colab.research.google.com/assets/colab-badge.svg\" alt=\"Open In Colab\"/></a>"
      ]
    },
    {
      "cell_type": "code",
      "execution_count": 1,
      "metadata": {
        "colab": {
          "base_uri": "https://localhost:8080/"
        },
        "id": "wbPIqc-JQZ5z",
        "outputId": "4ca99c4f-ea90-40ac-d2cb-ceb8c7ea085e"
      },
      "outputs": [
        {
          "name": "stdout",
          "output_type": "stream",
          "text": [
            "hello, world\n"
          ]
        }
      ],
      "source": [
        "# print is used to print formatted string in python\n",
        "print(\"hello, world\")\n",
        "# Print(\"hello, world\") is wrong"
      ]
    },
    {
      "cell_type": "code",
      "execution_count": 4,
      "metadata": {
        "id": "-h6R6bHeRDkN"
      },
      "outputs": [
        {
          "name": "stdout",
          "output_type": "stream",
          "text": [
            "helloworld\n",
            "hello world\n",
            "HelloHelloHelloHelloHelloHelloHelloHello\n"
          ]
        }
      ],
      "source": [
        "print('hello' + 'world')\n",
        "print('hello', 'world')\n",
        "# see the differecne between having a comma and a '+' sign\n",
        "print('Hello'* 8) # this prints the string concatinated to itself for 8 times\n",
        "# ''' there are two types of comments in python one is docstrings and others are single line comments''' \n",
        "# ''' this is a docstring comment'''\n",
        "# \"\"\" this is also a docstring comment\"\"\"\n",
        "# this is a single line commend\n",
        "# comments cannot be nested in python"
      ]
    },
    {
      "cell_type": "code",
      "execution_count": null,
      "metadata": {},
      "outputs": [],
      "source": [
        "# also note that different IDEs handle some cases differently\n",
        "# '=' in python is assignment operator\n",
        "# variable declaration\n",
        "name = 'sahil'\n",
        "number = 65\n",
        "variable = 'value'\n",
        "print(name)\n",
        "print(number)\n",
        "print(variable)\n",
        "# variables can only start with alphabets\n",
        "# variables do not have special symbols other than _ underscore\n",
        "\n",
        "# var1, var2, var3 = 'sahil', 2, 22.4 is an example of multiple assignment\n",
        "# var1 = var2 = var3 = 100 is an example of chained assignment\n"
      ]
    },
    {
      "cell_type": "code",
      "execution_count": null,
      "metadata": {},
      "outputs": [],
      "source": [
        "# these are the basic operations in python\n",
        "a = 10\n",
        "b = 50\n",
        "print(a + b)\n",
        "print(a - b)\n",
        "print(a * b)\n",
        "print(a / b)\n",
        "print(a // b)\n",
        "print(a % b)\n",
        "print(a ** b)\n",
        "# instead of writing x = x + 1\n",
        "# you can write x += 1\n",
        "#  "
      ]
    },
    {
      "cell_type": "code",
      "execution_count": 11,
      "metadata": {},
      "outputs": [
        {
          "name": "stdout",
          "output_type": "stream",
          "text": [
            "add function takes an input,\n",
            "and returns the sum till that number\n",
            "the sum is : 6\n"
          ]
        }
      ],
      "source": [
        "''' docstrings are used for multy line commenting and also as a user manual for the functions'''\n",
        "def add(n):\n",
        "    '''add function takes an input,\n",
        "and returns the sum till that number'''\n",
        "    retu = 0\n",
        "    for i in range(n):\n",
        "        retu += i\n",
        "    return retu\n",
        "n = int(input(\"n: \"))\n",
        "# prints the first docstring inside the function add\n",
        "print(add.__doc__)\n",
        "# prints the sum that is the return value of the function add\n",
        "print(\"the sum is :\",add(n))\n",
        "\n"
      ]
    },
    {
      "cell_type": "code",
      "execution_count": 8,
      "metadata": {},
      "outputs": [
        {
          "name": "stdout",
          "output_type": "stream",
          "text": [
            "Hello, World\n",
            "None\n"
          ]
        }
      ],
      "source": [
        "def sahil():\n",
        "    print(\"Hello, World\")\n",
        "    # this function returns none by default if the word return is not used\n",
        "k = sahil()\n",
        "print(k)"
      ]
    },
    {
      "cell_type": "code",
      "execution_count": 9,
      "metadata": {},
      "outputs": [
        {
          "name": "stdout",
          "output_type": "stream",
          "text": [
            "<class 'str'>\n"
          ]
        }
      ],
      "source": [
        "''' there are various data types in python\n",
        "a = 2 is an integer\n",
        "a = 2.0 is a float\n",
        "a = 'sahil' is a string\n",
        "a = \"sahil\" is also a string\n",
        "a = [1, 2, 'sahil', 55.55] is a list\n",
        "a = (1, 2, 'sahil', 55.55) is a tuple\n",
        "a = {'sahil': 28, 'rohit': 33} is a dictionary\n",
        "a = 2 + 3j is a complex data type\n",
        "'''\n",
        "a = 'sahil'\n",
        "print(type(a))\n",
        "# this type function is used to find the type of a variable\n"
      ]
    },
    {
      "cell_type": "code",
      "execution_count": 13,
      "metadata": {},
      "outputs": [
        {
          "name": "stdout",
          "output_type": "stream",
          "text": [
            "[]\n",
            "None\n",
            "None\n",
            "[['a', 'b', 'c', 'd', 'e', 'f', 'g', 'h'], ['i', 'j', 'k', 'l', 'm', 'n', 'o', 'p']]\n",
            "[['a', 'b', 'c', 'd', 'e', 'f', 'g', 'h'], ['i', 'j', 'k', 'l', 'm', 'n', 'o', 'p'], ['a', 'b', 'c', 'd', 'e', 'f', 'g', 'h']]\n",
            "[['a', 'b', 'c', 'd', 'e', 'f', 'g', 'h'], ['i', 'j', 'k', 'l', 'm', 'n', 'o', 'p'], ['a', 'b', 'c', 'd', 'e', 'f', 'g', 'h'], ['i', 'j', 'k', 'l', 'm', 'n', 'o', 'p']]\n"
          ]
        }
      ],
      "source": [
        "# STRINGS in pyton are sequences of characters and are zero indexed from beginning\n",
        "# 0 -> (n - 1) for n characters in the normal order\n",
        "# and -n -> (-1)  in the reverse order\n",
        "# if a string is enclosed in single quotes then any other single quote should be replaced with (\\') or use the double quotes.\n",
        "\n",
        "# lists\n",
        "# stored in the list are accessed using an index.\n",
        "\n",
        "list1 = [] # this is an empty list\n",
        "list2 = ['a', 'b', 'c', 'd', 'e', 'f', 'g', 'h'] # lists are zero indexed and are similar to strings except for strings are immutable\n",
        "# lists are mutable data types\n",
        "list3 = ['i', 'j', 'k', 'l', 'm', 'n', 'o', 'p']\n",
        "# to append or add one list to another\n",
        "print(list1)\n",
        "print(list1.append(list2)) # here the append is happening and the return value of l.append(m) that is 0 is printed\n",
        "print(list1.append(list3))\n",
        "print(list1)\n",
        "list1.append(list2)\n",
        "print(list1)\n",
        "list1.append(list3)\n",
        "print(list1)\n",
        "\n"
      ]
    },
    {
      "cell_type": "code",
      "execution_count": 14,
      "metadata": {},
      "outputs": [
        {
          "name": "stdout",
          "output_type": "stream",
          "text": [
            "<class 'set'>\n"
          ]
        }
      ],
      "source": [
        "# a set is a mutable data type with immutable elements\n",
        "# so a list or a set or a dictionary can not be an element of a set \n",
        "a = set() # is an empty set\n",
        "b = {2} # this is a set and sets are enclosed in curley braces {}\n",
        "c = {} # this is an empty dictionary\n",
        "print(type(c)) "
      ]
    },
    {
      "cell_type": "code",
      "execution_count": 19,
      "metadata": {},
      "outputs": [
        {
          "name": "stdout",
          "output_type": "stream",
          "text": [
            "(2+5j)\n"
          ]
        },
        {
          "data": {
            "text/plain": [
              "(2+5j)"
            ]
          },
          "execution_count": 19,
          "metadata": {},
          "output_type": "execute_result"
        }
      ],
      "source": [
        "# tuples are same as the lists but they are immutable\n",
        "my_tuple = tuple() # this is an empty tuple\n",
        "a = (1, 2, 4) # this is a tuple\n",
        "b = (4) # this is not a tuple rather it is an integer\n",
        "d = (4,) # this is a single element tuple\n",
        "# ord(x) is used to find the unicode value of x\n",
        "# int(s, base) converts string s to integer with base 'base'\n",
        "float(10) # gives out floating point value that is decimal value\n",
        "# hex() oct() take integer inputs and give output\n",
        "\n",
        "c = complex(2, 5)\n",
        "print(c)\n",
        "complex(\"2+5j\")\n",
        "# str(i) converts the i into string\n",
        "# chr(i) converts the i that is integer into the equivalent unicode character\n",
        "# the valid range for i in chr(i) is (1, 1.1million)"
      ]
    },
    {
      "cell_type": "code",
      "execution_count": 28,
      "metadata": {},
      "outputs": [
        {
          "name": "stdout",
          "output_type": "stream",
          "text": [
            "{'s', 'l', 'a', 'i', 'h'}\n",
            "['s', 'a', 'h', 'i', 'l']\n",
            "('s', 'a', 'h', 'i', 'l')\n",
            "{'a': 1, 'b': 2}\n",
            "[('key1', 'value1'), ('key2', 'value2'), ('key3', 'value3')]\n",
            "{'key1': 'value1', 'key2': 'value2', 'key3': 'value3'}\n"
          ]
        }
      ],
      "source": [
        "string = \"sahil\"\n",
        "print(set(string))\n",
        "print(list(string))\n",
        "print(tuple(string))\n",
        "\n",
        "mytuple = ((1, 'a'), (2, 'b'))\n",
        "print(dict((y, x) for x, y in mytuple)) # this is called comprenhension \n",
        "\n",
        "list1 = ['key1', 'key2', 'key3']\n",
        "\n",
        "list2 = ['value1', 'value2', 'value3', 'value4']\n",
        "print(list(zip(list1, list2))) # this prints the list of tuples\n",
        "print(dict(zip(list1, list2))) # this prints a dictionary \n",
        "# so what zip does is it kind of zips the lsits till one of the list ends\n",
        "\n",
        "# eval function takes a string and evaluates the expression\n"
      ]
    },
    {
      "attachments": {},
      "cell_type": "markdown",
      "metadata": {},
      "source": [
        "QUESTION (OOP):\n",
        "create a class called emp in the class, create an init method with attributes as self, id, name, address. and initialise these attributes inside init method. create another class freelance which is a child class of amp class and create method init inside freelance class, with attributes such as self, id, name, address and email. inherit the first three attributes from parent class using super function and initialise the last attribute that is email inside the child class. for the freelance class, create an object and print the details such as id, name, address and email."
      ]
    },
    {
      "cell_type": "code",
      "execution_count": 6,
      "metadata": {},
      "outputs": [
        {
          "name": "stdout",
          "output_type": "stream",
          "text": [
            "bh5\n",
            "sahil\n",
            "12214095\n",
            "gautamsahil1947@gmail.com\n"
          ]
        }
      ],
      "source": [
        "# define a class called emp\n",
        "class emp():\n",
        "    # using init constructor initialise id, name, address\n",
        "    def __init__(self, id, name, address):\n",
        "        self.id = id\n",
        "        self.name = name \n",
        "        self.address = address \n",
        "\n",
        "# create a child class with parent class emp\n",
        "class freelance(emp):\n",
        "    # declare init with four parameters\n",
        "    def __init__(self, id, name, address, email):\n",
        "        # borrow the initialisations of three from the parent class\n",
        "        super().__init__(id, name, address)\n",
        "        # and for the fourth one, initialise it here\n",
        "        self.email = email\n",
        "# create an object of the freelance class\n",
        "gautam = freelance(12214095, \"sahil\", \"bh5\", \"gautamsahil1947@gmail.com\")\n",
        "# fetch the instance variables that is object variables\n",
        "print(gautam.address)\n",
        "print(gautam.name)\n",
        "print(gautam.id)\n",
        "print(gautam.email)"
      ]
    },
    {
      "attachments": {},
      "cell_type": "markdown",
      "metadata": {},
      "source": [
        "QUESTION():\n"
      ]
    }
  ],
  "metadata": {
    "colab": {
      "authorship_tag": "ABX9TyNo3xLNXLVfFdTQsAEDV4QH",
      "include_colab_link": true,
      "provenance": []
    },
    "kernelspec": {
      "display_name": "Python 3",
      "language": "python",
      "name": "python3"
    },
    "language_info": {
      "codemirror_mode": {
        "name": "ipython",
        "version": 3
      },
      "file_extension": ".py",
      "mimetype": "text/x-python",
      "name": "python",
      "nbconvert_exporter": "python",
      "pygments_lexer": "ipython3",
      "version": "3.10.6"
    },
    "vscode": {
      "interpreter": {
        "hash": "916dbcbb3f70747c44a77c7bcd40155683ae19c65e1c03b4aa3499c5328201f1"
      }
    }
  },
  "nbformat": 4,
  "nbformat_minor": 0
}
